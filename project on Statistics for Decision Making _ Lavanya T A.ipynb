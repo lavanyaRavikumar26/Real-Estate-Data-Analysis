{
 "cells": [
  {
   "cell_type": "markdown",
   "id": "27e031c5",
   "metadata": {},
   "source": [
    "# Statistics for Decision Making #"
   ]
  },
  {
   "cell_type": "code",
   "execution_count": 3,
   "id": "303223e6",
   "metadata": {},
   "outputs": [],
   "source": [
    "import pandas as pd\n",
    "import numpy as np\n",
    "import matplotlib as plt\n",
    "import seaborn as sns"
   ]
  },
  {
   "cell_type": "code",
   "execution_count": 20,
   "id": "72626bcc",
   "metadata": {},
   "outputs": [],
   "source": [
    "property = pd.read_csv(r\"D:\\Python\\Project on Statistics and Decision making\\property.csv\")"
   ]
  },
  {
   "cell_type": "code",
   "execution_count": 5,
   "id": "f06efe70",
   "metadata": {},
   "outputs": [
    {
     "data": {
      "text/html": [
       "<div>\n",
       "<style scoped>\n",
       "    .dataframe tbody tr th:only-of-type {\n",
       "        vertical-align: middle;\n",
       "    }\n",
       "\n",
       "    .dataframe tbody tr th {\n",
       "        vertical-align: top;\n",
       "    }\n",
       "\n",
       "    .dataframe thead th {\n",
       "        text-align: right;\n",
       "    }\n",
       "</style>\n",
       "<table border=\"1\" class=\"dataframe\">\n",
       "  <thead>\n",
       "    <tr style=\"text-align: right;\">\n",
       "      <th></th>\n",
       "      <th>Suburb</th>\n",
       "      <th>Address</th>\n",
       "      <th>Rooms</th>\n",
       "      <th>Type</th>\n",
       "      <th>Price</th>\n",
       "      <th>Method</th>\n",
       "      <th>SellerG</th>\n",
       "      <th>Date</th>\n",
       "      <th>Distance</th>\n",
       "      <th>Postcode</th>\n",
       "      <th>...</th>\n",
       "      <th>Bathroom</th>\n",
       "      <th>Car</th>\n",
       "      <th>Landsize</th>\n",
       "      <th>BuildingArea</th>\n",
       "      <th>YearBuilt</th>\n",
       "      <th>CouncilArea</th>\n",
       "      <th>Lattitude</th>\n",
       "      <th>Longtitude</th>\n",
       "      <th>Regionname</th>\n",
       "      <th>Propertycount</th>\n",
       "    </tr>\n",
       "  </thead>\n",
       "  <tbody>\n",
       "    <tr>\n",
       "      <th>0</th>\n",
       "      <td>Abbotsford</td>\n",
       "      <td>85 Turner St</td>\n",
       "      <td>2</td>\n",
       "      <td>h</td>\n",
       "      <td>1480000.0</td>\n",
       "      <td>S</td>\n",
       "      <td>Biggin</td>\n",
       "      <td>3/12/2016</td>\n",
       "      <td>2.5</td>\n",
       "      <td>3067.0</td>\n",
       "      <td>...</td>\n",
       "      <td>1.0</td>\n",
       "      <td>1.0</td>\n",
       "      <td>202.0</td>\n",
       "      <td>NaN</td>\n",
       "      <td>NaN</td>\n",
       "      <td>Yarra</td>\n",
       "      <td>-37.7996</td>\n",
       "      <td>144.9984</td>\n",
       "      <td>Northern Metropolitan</td>\n",
       "      <td>4019.0</td>\n",
       "    </tr>\n",
       "    <tr>\n",
       "      <th>1</th>\n",
       "      <td>Abbotsford</td>\n",
       "      <td>25 Bloomburg St</td>\n",
       "      <td>2</td>\n",
       "      <td>h</td>\n",
       "      <td>1035000.0</td>\n",
       "      <td>S</td>\n",
       "      <td>Biggin</td>\n",
       "      <td>4/02/2016</td>\n",
       "      <td>2.5</td>\n",
       "      <td>3067.0</td>\n",
       "      <td>...</td>\n",
       "      <td>1.0</td>\n",
       "      <td>0.0</td>\n",
       "      <td>156.0</td>\n",
       "      <td>79.0</td>\n",
       "      <td>1900.0</td>\n",
       "      <td>Yarra</td>\n",
       "      <td>-37.8079</td>\n",
       "      <td>144.9934</td>\n",
       "      <td>Northern Metropolitan</td>\n",
       "      <td>4019.0</td>\n",
       "    </tr>\n",
       "    <tr>\n",
       "      <th>2</th>\n",
       "      <td>Abbotsford</td>\n",
       "      <td>5 Charles St</td>\n",
       "      <td>3</td>\n",
       "      <td>h</td>\n",
       "      <td>1465000.0</td>\n",
       "      <td>SP</td>\n",
       "      <td>Biggin</td>\n",
       "      <td>4/03/2017</td>\n",
       "      <td>2.5</td>\n",
       "      <td>3067.0</td>\n",
       "      <td>...</td>\n",
       "      <td>2.0</td>\n",
       "      <td>0.0</td>\n",
       "      <td>134.0</td>\n",
       "      <td>150.0</td>\n",
       "      <td>1900.0</td>\n",
       "      <td>Yarra</td>\n",
       "      <td>-37.8093</td>\n",
       "      <td>144.9944</td>\n",
       "      <td>Northern Metropolitan</td>\n",
       "      <td>4019.0</td>\n",
       "    </tr>\n",
       "    <tr>\n",
       "      <th>3</th>\n",
       "      <td>Abbotsford</td>\n",
       "      <td>40 Federation La</td>\n",
       "      <td>3</td>\n",
       "      <td>h</td>\n",
       "      <td>850000.0</td>\n",
       "      <td>PI</td>\n",
       "      <td>Biggin</td>\n",
       "      <td>4/03/2017</td>\n",
       "      <td>2.5</td>\n",
       "      <td>3067.0</td>\n",
       "      <td>...</td>\n",
       "      <td>2.0</td>\n",
       "      <td>1.0</td>\n",
       "      <td>94.0</td>\n",
       "      <td>NaN</td>\n",
       "      <td>NaN</td>\n",
       "      <td>Yarra</td>\n",
       "      <td>-37.7969</td>\n",
       "      <td>144.9969</td>\n",
       "      <td>Northern Metropolitan</td>\n",
       "      <td>4019.0</td>\n",
       "    </tr>\n",
       "    <tr>\n",
       "      <th>4</th>\n",
       "      <td>Abbotsford</td>\n",
       "      <td>55a Park St</td>\n",
       "      <td>4</td>\n",
       "      <td>h</td>\n",
       "      <td>1600000.0</td>\n",
       "      <td>VB</td>\n",
       "      <td>Nelson</td>\n",
       "      <td>4/06/2016</td>\n",
       "      <td>2.5</td>\n",
       "      <td>3067.0</td>\n",
       "      <td>...</td>\n",
       "      <td>1.0</td>\n",
       "      <td>2.0</td>\n",
       "      <td>120.0</td>\n",
       "      <td>142.0</td>\n",
       "      <td>2014.0</td>\n",
       "      <td>Yarra</td>\n",
       "      <td>-37.8072</td>\n",
       "      <td>144.9941</td>\n",
       "      <td>Northern Metropolitan</td>\n",
       "      <td>4019.0</td>\n",
       "    </tr>\n",
       "  </tbody>\n",
       "</table>\n",
       "<p>5 rows × 21 columns</p>\n",
       "</div>"
      ],
      "text/plain": [
       "       Suburb           Address  Rooms Type      Price Method SellerG  \\\n",
       "0  Abbotsford      85 Turner St      2    h  1480000.0      S  Biggin   \n",
       "1  Abbotsford   25 Bloomburg St      2    h  1035000.0      S  Biggin   \n",
       "2  Abbotsford      5 Charles St      3    h  1465000.0     SP  Biggin   \n",
       "3  Abbotsford  40 Federation La      3    h   850000.0     PI  Biggin   \n",
       "4  Abbotsford       55a Park St      4    h  1600000.0     VB  Nelson   \n",
       "\n",
       "        Date  Distance  Postcode  ...  Bathroom  Car  Landsize  BuildingArea  \\\n",
       "0  3/12/2016       2.5    3067.0  ...       1.0  1.0     202.0           NaN   \n",
       "1  4/02/2016       2.5    3067.0  ...       1.0  0.0     156.0          79.0   \n",
       "2  4/03/2017       2.5    3067.0  ...       2.0  0.0     134.0         150.0   \n",
       "3  4/03/2017       2.5    3067.0  ...       2.0  1.0      94.0           NaN   \n",
       "4  4/06/2016       2.5    3067.0  ...       1.0  2.0     120.0         142.0   \n",
       "\n",
       "   YearBuilt  CouncilArea Lattitude  Longtitude             Regionname  \\\n",
       "0        NaN        Yarra  -37.7996    144.9984  Northern Metropolitan   \n",
       "1     1900.0        Yarra  -37.8079    144.9934  Northern Metropolitan   \n",
       "2     1900.0        Yarra  -37.8093    144.9944  Northern Metropolitan   \n",
       "3        NaN        Yarra  -37.7969    144.9969  Northern Metropolitan   \n",
       "4     2014.0        Yarra  -37.8072    144.9941  Northern Metropolitan   \n",
       "\n",
       "  Propertycount  \n",
       "0        4019.0  \n",
       "1        4019.0  \n",
       "2        4019.0  \n",
       "3        4019.0  \n",
       "4        4019.0  \n",
       "\n",
       "[5 rows x 21 columns]"
      ]
     },
     "execution_count": 5,
     "metadata": {},
     "output_type": "execute_result"
    }
   ],
   "source": [
    "property.head()"
   ]
  },
  {
   "cell_type": "code",
   "execution_count": 6,
   "id": "c1d457ed",
   "metadata": {},
   "outputs": [
    {
     "name": "stdout",
     "output_type": "stream",
     "text": [
      "<class 'pandas.core.frame.DataFrame'>\n",
      "RangeIndex: 13580 entries, 0 to 13579\n",
      "Data columns (total 21 columns):\n",
      " #   Column         Non-Null Count  Dtype  \n",
      "---  ------         --------------  -----  \n",
      " 0   Suburb         13580 non-null  object \n",
      " 1   Address        13580 non-null  object \n",
      " 2   Rooms          13580 non-null  int64  \n",
      " 3   Type           13580 non-null  object \n",
      " 4   Price          13580 non-null  float64\n",
      " 5   Method         13580 non-null  object \n",
      " 6   SellerG        13580 non-null  object \n",
      " 7   Date           13580 non-null  object \n",
      " 8   Distance       13580 non-null  float64\n",
      " 9   Postcode       13580 non-null  float64\n",
      " 10  Bedroom2       13580 non-null  float64\n",
      " 11  Bathroom       13580 non-null  float64\n",
      " 12  Car            13518 non-null  float64\n",
      " 13  Landsize       13580 non-null  float64\n",
      " 14  BuildingArea   7130 non-null   float64\n",
      " 15  YearBuilt      8205 non-null   float64\n",
      " 16  CouncilArea    12211 non-null  object \n",
      " 17  Lattitude      13580 non-null  float64\n",
      " 18  Longtitude     13580 non-null  float64\n",
      " 19  Regionname     13580 non-null  object \n",
      " 20  Propertycount  13580 non-null  float64\n",
      "dtypes: float64(12), int64(1), object(8)\n",
      "memory usage: 2.2+ MB\n"
     ]
    }
   ],
   "source": [
    "property.info()"
   ]
  },
  {
   "cell_type": "code",
   "execution_count": 7,
   "id": "d40b9bd6",
   "metadata": {},
   "outputs": [],
   "source": [
    "# Check for missing values in the entire DataFrame\n",
    "missing_values = property.isnull().sum()"
   ]
  },
  {
   "cell_type": "code",
   "execution_count": 8,
   "id": "11126945",
   "metadata": {},
   "outputs": [
    {
     "name": "stdout",
     "output_type": "stream",
     "text": [
      "Missing values per column:\n",
      "Suburb              0\n",
      "Address             0\n",
      "Rooms               0\n",
      "Type                0\n",
      "Price               0\n",
      "Method              0\n",
      "SellerG             0\n",
      "Date                0\n",
      "Distance            0\n",
      "Postcode            0\n",
      "Bedroom2            0\n",
      "Bathroom            0\n",
      "Car                62\n",
      "Landsize            0\n",
      "BuildingArea     6450\n",
      "YearBuilt        5375\n",
      "CouncilArea      1369\n",
      "Lattitude           0\n",
      "Longtitude          0\n",
      "Regionname          0\n",
      "Propertycount       0\n",
      "dtype: int64\n"
     ]
    }
   ],
   "source": [
    "print(\"Missing values per column:\")\n",
    "print(missing_values)"
   ]
  },
  {
   "cell_type": "code",
   "execution_count": 14,
   "id": "6259b0f6",
   "metadata": {},
   "outputs": [],
   "source": [
    "# Select only numeric columns\n",
    "numeric_columns = property.select_dtypes(include=['float64', 'int64'])"
   ]
  },
  {
   "cell_type": "code",
   "execution_count": 16,
   "id": "7966d64b",
   "metadata": {},
   "outputs": [],
   "source": [
    "# Fill missing values with the mean of each numeric column\n",
    "property_filled = numeric_columns.fillna(numeric_columns.mean())"
   ]
  },
  {
   "cell_type": "code",
   "execution_count": 17,
   "id": "d2699b8b",
   "metadata": {},
   "outputs": [
    {
     "name": "stdout",
     "output_type": "stream",
     "text": [
      "DataFrame after filling missing values:\n",
      "       Rooms      Price  Distance  Postcode  Bedroom2  Bathroom  Car  \\\n",
      "0          2  1480000.0       2.5    3067.0       2.0       1.0  1.0   \n",
      "1          2  1035000.0       2.5    3067.0       2.0       1.0  0.0   \n",
      "2          3  1465000.0       2.5    3067.0       3.0       2.0  0.0   \n",
      "3          3   850000.0       2.5    3067.0       3.0       2.0  1.0   \n",
      "4          4  1600000.0       2.5    3067.0       3.0       1.0  2.0   \n",
      "...      ...        ...       ...       ...       ...       ...  ...   \n",
      "13575      4  1245000.0      16.7    3150.0       4.0       2.0  2.0   \n",
      "13576      3  1031000.0       6.8    3016.0       3.0       2.0  2.0   \n",
      "13577      3  1170000.0       6.8    3016.0       3.0       2.0  4.0   \n",
      "13578      4  2500000.0       6.8    3016.0       4.0       1.0  5.0   \n",
      "13579      4  1285000.0       6.3    3013.0       4.0       1.0  1.0   \n",
      "\n",
      "       Landsize  BuildingArea    YearBuilt  Lattitude  Longtitude  \\\n",
      "0         202.0     151.96765  1964.684217  -37.79960   144.99840   \n",
      "1         156.0      79.00000  1900.000000  -37.80790   144.99340   \n",
      "2         134.0     150.00000  1900.000000  -37.80930   144.99440   \n",
      "3          94.0     151.96765  1964.684217  -37.79690   144.99690   \n",
      "4         120.0     142.00000  2014.000000  -37.80720   144.99410   \n",
      "...         ...           ...          ...        ...         ...   \n",
      "13575     652.0     151.96765  1981.000000  -37.90562   145.16761   \n",
      "13576     333.0     133.00000  1995.000000  -37.85927   144.87904   \n",
      "13577     436.0     151.96765  1997.000000  -37.85274   144.88738   \n",
      "13578     866.0     157.00000  1920.000000  -37.85908   144.89299   \n",
      "13579     362.0     112.00000  1920.000000  -37.81188   144.88449   \n",
      "\n",
      "       Propertycount  \n",
      "0             4019.0  \n",
      "1             4019.0  \n",
      "2             4019.0  \n",
      "3             4019.0  \n",
      "4             4019.0  \n",
      "...              ...  \n",
      "13575         7392.0  \n",
      "13576         6380.0  \n",
      "13577         6380.0  \n",
      "13578         6380.0  \n",
      "13579         6543.0  \n",
      "\n",
      "[13580 rows x 13 columns]\n"
     ]
    }
   ],
   "source": [
    "# Print the DataFrame after filling missing values\n",
    "print(\"DataFrame after filling missing values:\")\n",
    "print(property_filled)"
   ]
  },
  {
   "cell_type": "markdown",
   "id": "405723da",
   "metadata": {},
   "source": [
    "##### Filtering the DataFrame to include only numeric columns before filling missing values ensures that the filling operation is applied only to appropriate columns, which can help in successfully filling missing values #####"
   ]
  },
  {
   "cell_type": "code",
   "execution_count": null,
   "id": "8219e252",
   "metadata": {},
   "outputs": [],
   "source": []
  },
  {
   "cell_type": "markdown",
   "id": "ab47cd72",
   "metadata": {},
   "source": [
    "### Question 1: Testing Assumption for Altona Suburb"
   ]
  },
  {
   "cell_type": "code",
   "execution_count": 19,
   "id": "56cedf0a",
   "metadata": {},
   "outputs": [],
   "source": [
    "import pandas as pd\n",
    "from scipy.stats import ttest_1samp"
   ]
  },
  {
   "cell_type": "code",
   "execution_count": 23,
   "id": "1d401363",
   "metadata": {},
   "outputs": [],
   "source": [
    "# Filter data for properties in Altona suburb\n",
    "altona_data = property[property['Suburb'] == 'Altona']"
   ]
  },
  {
   "cell_type": "code",
   "execution_count": 24,
   "id": "9d5f9498",
   "metadata": {},
   "outputs": [],
   "source": [
    "# Assumed typical property price\n",
    "assumed_price = 800000"
   ]
  },
  {
   "cell_type": "code",
   "execution_count": 25,
   "id": "ecd558f9",
   "metadata": {},
   "outputs": [],
   "source": [
    "# Perform one-sample t-test\n",
    "t_statistic, p_value = ttest_1samp(altona_data['Price'], assumed_price)"
   ]
  },
  {
   "cell_type": "code",
   "execution_count": 26,
   "id": "a30e884c",
   "metadata": {},
   "outputs": [
    {
     "name": "stdout",
     "output_type": "stream",
     "text": [
      "There is no significant difference in the typical property price in Altona.\n"
     ]
    }
   ],
   "source": [
    "#  To check if the p-value is less than significance level (0.05)\n",
    "if p_value < 0.05:\n",
    "    print(\"The typical property price in Altona is significantly different from $800,000.\")\n",
    "else:\n",
    "    print(\"There is no significant difference in the typical property price in Altona.\")"
   ]
  },
  {
   "cell_type": "markdown",
   "id": "71242a62",
   "metadata": {},
   "source": [
    "##### The p-value is greater than or equal to 0.05, we fail to reject the null hypothesis, indicating that there is no significant difference in the typical property price in Altona #####"
   ]
  },
  {
   "cell_type": "code",
   "execution_count": null,
   "id": "ce711426",
   "metadata": {},
   "outputs": [],
   "source": []
  },
  {
   "cell_type": "markdown",
   "id": "b5ed52ab",
   "metadata": {},
   "source": [
    "### Question 2: Comparison of Property Prices in Summer and Winter Months"
   ]
  },
  {
   "cell_type": "code",
   "execution_count": 30,
   "id": "71a5afe3",
   "metadata": {
    "scrolled": true
   },
   "outputs": [],
   "source": [
    "# Convert 'Date' column to datetime format with correct date format\n",
    "property['Date'] = pd.to_datetime(property['Date'], format='%d/%m/%Y')\n"
   ]
  },
  {
   "cell_type": "code",
   "execution_count": 32,
   "id": "8334d5ec",
   "metadata": {},
   "outputs": [],
   "source": [
    "# Extract month from dates\n",
    "property['Month'] = property['Date'].dt.month"
   ]
  },
  {
   "cell_type": "code",
   "execution_count": 33,
   "id": "9e5b4dba",
   "metadata": {},
   "outputs": [],
   "source": [
    "# Categorizing months as summer or winter\n",
    "property['Season'] = property['Month'].apply(lambda x: 'Winter' if x in [10, 11, 12, 1, 2, 3] else 'Summer')"
   ]
  },
  {
   "cell_type": "code",
   "execution_count": 34,
   "id": "631f1b9e",
   "metadata": {},
   "outputs": [],
   "source": [
    "# Filter data for properties sold in 2016\n",
    "data_2016 = property[property['Date'].dt.year == 2016]"
   ]
  },
  {
   "cell_type": "code",
   "execution_count": 35,
   "id": "9897408a",
   "metadata": {},
   "outputs": [],
   "source": [
    "# Separate data for summer and winter months\n",
    "summer_data = data_2016[data_2016['Season'] == 'Summer']\n",
    "winter_data = data_2016[data_2016['Season'] == 'Winter']\n"
   ]
  },
  {
   "cell_type": "code",
   "execution_count": 39,
   "id": "a12224a2",
   "metadata": {},
   "outputs": [],
   "source": [
    "from scipy.stats import ttest_ind\n"
   ]
  },
  {
   "cell_type": "code",
   "execution_count": 40,
   "id": "21cf50cd",
   "metadata": {},
   "outputs": [],
   "source": [
    "# Perform two-sample t-test\n",
    "t_statistic, p_value = ttest_ind(summer_data['Price'], winter_data['Price'])"
   ]
  },
  {
   "cell_type": "code",
   "execution_count": 41,
   "id": "03ec12a2",
   "metadata": {},
   "outputs": [
    {
     "name": "stdout",
     "output_type": "stream",
     "text": [
      "There is a significant difference in property prices between summer and winter months.\n"
     ]
    }
   ],
   "source": [
    "#  To check if p-value is less than significance level (0.05)\n",
    "if p_value < 0.05:\n",
    "    print(\"There is a significant difference in property prices between summer and winter months.\")\n",
    "else:\n",
    "    print(\"There is no significant difference in property prices between summer and winter months.\")"
   ]
  },
  {
   "cell_type": "markdown",
   "id": "61c99692",
   "metadata": {},
   "source": [
    "##### The p-value is less than 0.05, we reject the null hypothesis and conclude that there is a significant difference in property prices between summer and winter months #####"
   ]
  },
  {
   "cell_type": "code",
   "execution_count": null,
   "id": "3046f1ab",
   "metadata": {},
   "outputs": [],
   "source": []
  },
  {
   "cell_type": "markdown",
   "id": "1a3ec99d",
   "metadata": {},
   "source": [
    "### Question 3: Probability of Properties Without Car Parking in Abbotsford"
   ]
  },
  {
   "cell_type": "code",
   "execution_count": 42,
   "id": "74bc5e61",
   "metadata": {},
   "outputs": [],
   "source": [
    "# Filter data for properties in Abbotsford suburb\n",
    "abbotsford_data = property[property['Suburb'] == 'Abbotsford']"
   ]
  },
  {
   "cell_type": "markdown",
   "id": "6c765944",
   "metadata": {},
   "source": [
    "##### Calculate Probability of Properties Without Car Parking"
   ]
  },
  {
   "cell_type": "code",
   "execution_count": 43,
   "id": "d0486805",
   "metadata": {},
   "outputs": [],
   "source": [
    "# Total number of properties sold in Abbotsford\n",
    "total_properties = len(abbotsford_data)"
   ]
  },
  {
   "cell_type": "code",
   "execution_count": 44,
   "id": "7eb07663",
   "metadata": {},
   "outputs": [],
   "source": [
    "# Number of properties without car parking\n",
    "properties_without_parking = len(abbotsford_data[abbotsford_data['Car'] == 0])"
   ]
  },
  {
   "cell_type": "code",
   "execution_count": 45,
   "id": "d0051571",
   "metadata": {},
   "outputs": [],
   "source": [
    "# Probability of properties without car parking\n",
    "probability_no_parking = properties_without_parking / total_properties"
   ]
  },
  {
   "cell_type": "code",
   "execution_count": 46,
   "id": "af38d73e",
   "metadata": {},
   "outputs": [],
   "source": [
    "# Round off the probability to 3 decimal places\n",
    "probability_no_parking = round(probability_no_parking, 3)"
   ]
  },
  {
   "cell_type": "code",
   "execution_count": 47,
   "id": "67bfbb4a",
   "metadata": {},
   "outputs": [
    {
     "name": "stdout",
     "output_type": "stream",
     "text": [
      "Probability of a property in Abbotsford not having a car parking: 0.268\n"
     ]
    }
   ],
   "source": [
    "# Print the probability\n",
    "print(\"Probability of a property in Abbotsford not having a car parking:\", probability_no_parking)"
   ]
  },
  {
   "cell_type": "markdown",
   "id": "7819db10",
   "metadata": {},
   "source": [
    "##### The calculated probability represents the likelihood of randomly selecting a property in Abbotsford that does not have a car parking space."
   ]
  },
  {
   "cell_type": "code",
   "execution_count": null,
   "id": "07baa39e",
   "metadata": {},
   "outputs": [],
   "source": []
  },
  {
   "cell_type": "markdown",
   "id": "09f6a9e9",
   "metadata": {},
   "source": [
    "### Question 4: Probability of Finding Properties with 3 Rooms in Abbotsford"
   ]
  },
  {
   "cell_type": "markdown",
   "id": "ec229ac9",
   "metadata": {},
   "source": [
    "##### To calculate Probability of Properties with 3 Rooms"
   ]
  },
  {
   "cell_type": "code",
   "execution_count": 50,
   "id": "07d64b42",
   "metadata": {},
   "outputs": [],
   "source": [
    "# Total number of properties sold in Abbotsford\n",
    "total_properties = len(abbotsford_data)"
   ]
  },
  {
   "cell_type": "code",
   "execution_count": 51,
   "id": "53c3b9df",
   "metadata": {},
   "outputs": [],
   "source": [
    "# Number of properties with 3 rooms\n",
    "properties_with_3_rooms = len(abbotsford_data[abbotsford_data['Rooms'] == 3])"
   ]
  },
  {
   "cell_type": "code",
   "execution_count": 52,
   "id": "baf7304a",
   "metadata": {},
   "outputs": [],
   "source": [
    "# Probability of properties with 3 rooms\n",
    "probability_3_rooms = properties_with_3_rooms / total_properties"
   ]
  },
  {
   "cell_type": "code",
   "execution_count": 64,
   "id": "4583e648",
   "metadata": {},
   "outputs": [],
   "source": [
    "# Round off the probability to 3 decimal places\n",
    "probability_3_rooms = round(probability_3_rooms, 3)"
   ]
  },
  {
   "cell_type": "code",
   "execution_count": 54,
   "id": "f7d6882a",
   "metadata": {},
   "outputs": [
    {
     "name": "stdout",
     "output_type": "stream",
     "text": [
      "Probability of finding a property with 3 rooms in Abbotsford: 0.357\n"
     ]
    }
   ],
   "source": [
    "# Print the probability\n",
    "print(\"Probability of finding a property with 3 rooms in Abbotsford:\", probability_3_rooms)"
   ]
  },
  {
   "cell_type": "markdown",
   "id": "0ef9320e",
   "metadata": {},
   "source": [
    "##### The calculated probability represents the likelihood of randomly selecting a property in Abbotsford that has exactly 3 rooms."
   ]
  },
  {
   "cell_type": "code",
   "execution_count": null,
   "id": "b1592f83",
   "metadata": {},
   "outputs": [],
   "source": []
  },
  {
   "cell_type": "markdown",
   "id": "33784fbc",
   "metadata": {},
   "source": [
    "### Question 5: Probability of Finding Properties with 2 Bathrooms in Abbotsford"
   ]
  },
  {
   "cell_type": "markdown",
   "id": "d31d2104",
   "metadata": {},
   "source": [
    "#####  To calculate Probability of Properties with 2 Bathrooms"
   ]
  },
  {
   "cell_type": "code",
   "execution_count": 55,
   "id": "44b7e51c",
   "metadata": {},
   "outputs": [],
   "source": [
    "# Total number of properties sold in Abbotsford\n",
    "total_properties = len(abbotsford_data)"
   ]
  },
  {
   "cell_type": "code",
   "execution_count": 58,
   "id": "54764a34",
   "metadata": {},
   "outputs": [],
   "source": [
    "# Number of properties with 2 bathrooms\n",
    "properties_with_2_bathrooms = len(abbotsford_data[abbotsford_data['Bathroom'] == 2])"
   ]
  },
  {
   "cell_type": "code",
   "execution_count": 60,
   "id": "78f0f30c",
   "metadata": {},
   "outputs": [],
   "source": [
    "# Probability of properties with 2 bathrooms\n",
    "probability_2_bathrooms = properties_with_2_bathrooms / total_properties"
   ]
  },
  {
   "cell_type": "code",
   "execution_count": 62,
   "id": "f8ff5ea1",
   "metadata": {},
   "outputs": [],
   "source": [
    "# Round off the probability to 3 decimal places\n",
    "probability_2_bathrooms = round(probability_2_bathrooms, 3)"
   ]
  },
  {
   "cell_type": "code",
   "execution_count": 63,
   "id": "684d68bf",
   "metadata": {},
   "outputs": [
    {
     "name": "stdout",
     "output_type": "stream",
     "text": [
      "Probability of finding a property with 2 bathrooms in Abbotsford: 0.339\n"
     ]
    }
   ],
   "source": [
    "# Print the probability\n",
    "print(\"Probability of finding a property with 2 bathrooms in Abbotsford:\", probability_2_bathrooms)"
   ]
  },
  {
   "cell_type": "markdown",
   "id": "13b37cd8",
   "metadata": {},
   "source": [
    "##### The calculated probability represents the likelihood of randomly selecting a property in Abbotsford that has exactly 2 bathrooms."
   ]
  },
  {
   "cell_type": "code",
   "execution_count": null,
   "id": "d2617cc5",
   "metadata": {},
   "outputs": [],
   "source": []
  }
 ],
 "metadata": {
  "kernelspec": {
   "display_name": "Python 3 (ipykernel)",
   "language": "python",
   "name": "python3"
  },
  "language_info": {
   "codemirror_mode": {
    "name": "ipython",
    "version": 3
   },
   "file_extension": ".py",
   "mimetype": "text/x-python",
   "name": "python",
   "nbconvert_exporter": "python",
   "pygments_lexer": "ipython3",
   "version": "3.11.5"
  }
 },
 "nbformat": 4,
 "nbformat_minor": 5
}
